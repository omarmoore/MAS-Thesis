{
 "cells": [
  {
   "cell_type": "code",
   "execution_count": 12,
   "id": "74906370",
   "metadata": {},
   "outputs": [],
   "source": [
    "#!pip install numpy\n",
    "import os\n",
    "import pandas as pd\n",
    "import numpy as np"
   ]
  },
  {
   "cell_type": "code",
   "execution_count": 18,
   "id": "2e0bc8a7",
   "metadata": {},
   "outputs": [
    {
     "name": "stdout",
     "output_type": "stream",
     "text": [
      "/bin/bash: pip: command not found\r\n"
     ]
    },
    {
     "ename": "ModuleNotFoundError",
     "evalue": "No module named 'surprise'",
     "output_type": "error",
     "traceback": [
      "\u001b[0;31m---------------------------------------------------------------------------\u001b[0m",
      "\u001b[0;31mModuleNotFoundError\u001b[0m                       Traceback (most recent call last)",
      "Input \u001b[0;32mIn [18]\u001b[0m, in \u001b[0;36m<cell line: 3>\u001b[0;34m()\u001b[0m\n\u001b[1;32m      1\u001b[0m \u001b[38;5;28;01mimport\u001b[39;00m \u001b[38;5;21;01mnumpy\u001b[39;00m \u001b[38;5;28;01mas\u001b[39;00m \u001b[38;5;21;01mnp\u001b[39;00m\n\u001b[1;32m      2\u001b[0m get_ipython()\u001b[38;5;241m.\u001b[39msystem(\u001b[38;5;124m'\u001b[39m\u001b[38;5;124mpip install surprise\u001b[39m\u001b[38;5;124m'\u001b[39m)\n\u001b[0;32m----> 3\u001b[0m \u001b[38;5;28;01mfrom\u001b[39;00m \u001b[38;5;21;01msurprise\u001b[39;00m \u001b[38;5;28;01mimport\u001b[39;00m Reader\n\u001b[1;32m      4\u001b[0m \u001b[38;5;28;01mfrom\u001b[39;00m \u001b[38;5;21;01msurprise\u001b[39;00m \u001b[38;5;28;01mimport\u001b[39;00m Dataset\n\u001b[1;32m      5\u001b[0m \u001b[38;5;28;01mfrom\u001b[39;00m \u001b[38;5;21;01msurprise\u001b[39;00m\u001b[38;5;21;01m.\u001b[39;00m\u001b[38;5;21;01mmodel_selection\u001b[39;00m \u001b[38;5;28;01mimport\u001b[39;00m KFold\n",
      "\u001b[0;31mModuleNotFoundError\u001b[0m: No module named 'surprise'"
     ]
    }
   ],
   "source": [
    "import numpy as np\n",
    "!pip install surprise\n",
    "from surprise import Reader\n",
    "from surprise import Dataset\n",
    "from surprise.model_selection import KFold\n",
    "from surprise.model_selection import cross_validate\n",
    "from surprise import NormalPredictor\n",
    "from surprise import SVD\n",
    "from surprise import NMF\n",
    "from surprise import SlopeOne\n",
    "from surprise import CoClustering\n",
    "from surprise.accuracy import rmse\n",
    "from surprise import accuracy\n",
    "from surprise.model_selection import train_test_split\n",
    "from surprise.model_selection import GridSearchCV\n",
    "from collections import defaultdict\n",
    "\n",
    "\n",
    "from collections import deque\n",
    "from plotly.offline import init_notebook_mode, plot, iplot\n",
    "import plotly.graph_objs as go\n",
    "init_notebook_mode(connected=True)"
   ]
  },
  {
   "cell_type": "code",
   "execution_count": 1,
   "id": "6a864244",
   "metadata": {},
   "outputs": [
    {
     "ename": "NameError",
     "evalue": "name 'usr' is not defined",
     "output_type": "error",
     "traceback": [
      "\u001b[0;31m---------------------------------------------------------------------------\u001b[0m",
      "\u001b[0;31mNameError\u001b[0m                                 Traceback (most recent call last)",
      "Input \u001b[0;32mIn [1]\u001b[0m, in \u001b[0;36m<cell line: 1>\u001b[0;34m()\u001b[0m\n\u001b[0;32m----> 1\u001b[0m \u001b[43musr\u001b[49m\u001b[38;5;241m/\u001b[39m\u001b[38;5;28mbin\u001b[39m\u001b[38;5;241m/\u001b[39mpip3(install, surprise)\n",
      "\u001b[0;31mNameError\u001b[0m: name 'usr' is not defined"
     ]
    }
   ],
   "source": [
    "/usr/bin/pip3 install surprise"
   ]
  },
  {
   "cell_type": "code",
   "execution_count": 2,
   "id": "544e19b5",
   "metadata": {},
   "outputs": [
    {
     "ename": "ModuleNotFoundError",
     "evalue": "No module named 'surprise'",
     "output_type": "error",
     "traceback": [
      "\u001b[0;31m---------------------------------------------------------------------------\u001b[0m",
      "\u001b[0;31mModuleNotFoundError\u001b[0m                       Traceback (most recent call last)",
      "Input \u001b[0;32mIn [2]\u001b[0m, in \u001b[0;36m<cell line: 1>\u001b[0;34m()\u001b[0m\n\u001b[0;32m----> 1\u001b[0m \u001b[38;5;28;01mfrom\u001b[39;00m \u001b[38;5;21;01msurprise\u001b[39;00m \u001b[38;5;28;01mimport\u001b[39;00m Dataset\n",
      "\u001b[0;31mModuleNotFoundError\u001b[0m: No module named 'surprise'"
     ]
    }
   ],
   "source": [
    "from surprise import Dataset"
   ]
  },
  {
   "cell_type": "code",
   "execution_count": 4,
   "id": "c0f3952d",
   "metadata": {},
   "outputs": [
    {
     "name": "stdout",
     "output_type": "stream",
     "text": [
      "Package                  Version\r\n",
      "------------------------ -----------\r\n",
      "anyio                    3.6.2\r\n",
      "appnope                  0.1.3\r\n",
      "argon2-cffi              21.3.0\r\n",
      "argon2-cffi-bindings     21.2.0\r\n",
      "arrow                    1.2.3\r\n",
      "asttokens                2.2.1\r\n",
      "attrs                    22.1.0\r\n",
      "backcall                 0.2.0\r\n",
      "beautifulsoup4           4.11.1\r\n",
      "bleach                   5.0.1\r\n",
      "certifi                  2022.12.7\r\n",
      "cffi                     1.15.1\r\n",
      "charset-normalizer       3.0.1\r\n",
      "contourpy                1.0.6\r\n",
      "cycler                   0.11.0\r\n",
      "debugpy                  1.6.4\r\n",
      "decorator                5.1.1\r\n",
      "defusedxml               0.7.1\r\n",
      "entrypoints              0.4\r\n",
      "executing                1.2.0\r\n",
      "fastjsonschema           2.16.2\r\n",
      "fonttools                4.38.0\r\n",
      "fqdn                     1.5.1\r\n",
      "future                   0.18.2\r\n",
      "gunzip                   0.1.10\r\n",
      "idna                     3.4\r\n",
      "importlib-metadata       5.1.0\r\n",
      "importlib-resources      5.10.1\r\n",
      "install                  1.3.5\r\n",
      "ipykernel                6.17.1\r\n",
      "ipython                  8.7.0\r\n",
      "ipython-genutils         0.2.0\r\n",
      "ipywidgets               8.0.2\r\n",
      "isoduration              20.11.0\r\n",
      "jedi                     0.18.2\r\n",
      "Jinja2                   3.1.2\r\n",
      "joblib                   1.2.0\r\n",
      "jsonpointer              2.3\r\n",
      "jsonschema               4.17.3\r\n",
      "jupyter                  1.0.0\r\n",
      "jupyter_client           7.4.8\r\n",
      "jupyter-console          6.4.4\r\n",
      "jupyter_core             5.1.0\r\n",
      "jupyter-events           0.5.0\r\n",
      "jupyter_server           2.0.0\r\n",
      "jupyter_server_terminals 0.4.2\r\n",
      "jupyterlab-pygments      0.2.2\r\n",
      "jupyterlab-widgets       3.0.3\r\n",
      "keras                    2.12.0\r\n",
      "kiwisolver               1.4.4\r\n",
      "MarkupSafe               2.1.1\r\n",
      "matplotlib               3.6.2\r\n",
      "matplotlib-inline        0.1.6\r\n",
      "microapp                 0.3.15\r\n",
      "mistune                  2.0.4\r\n",
      "nbclassic                0.4.8\r\n",
      "nbclient                 0.7.2\r\n",
      "nbconvert                7.2.6\r\n",
      "nbformat                 5.7.0\r\n",
      "nest-asyncio             1.5.6\r\n",
      "notebook                 6.5.2\r\n",
      "notebook_shim            0.2.2\r\n",
      "numpy                    1.23.4\r\n",
      "packaging                21.3\r\n",
      "pandas                   1.5.2\r\n",
      "pandocfilters            1.5.0\r\n",
      "parso                    0.8.3\r\n",
      "pexpect                  4.8.0\r\n",
      "pickleshare              0.7.5\r\n",
      "Pillow                   9.3.0\r\n",
      "pip                      23.1.2\r\n",
      "pkgutil_resolve_name     1.3.10\r\n",
      "platformdirs             2.5.4\r\n",
      "prometheus-client        0.15.0\r\n",
      "prompt-toolkit           3.0.36\r\n",
      "protobuf                 4.23.0\r\n",
      "psutil                   5.9.4\r\n",
      "ptyprocess               0.7.0\r\n",
      "pure-eval                0.2.2\r\n",
      "pycparser                2.21\r\n",
      "Pygments                 2.13.0\r\n",
      "pyparsing                3.0.9\r\n",
      "pyrsistent               0.19.2\r\n",
      "python-dateutil          2.8.2\r\n",
      "python-json-logger       2.0.4\r\n",
      "pytz                     2022.6\r\n",
      "PyYAML                   6.0\r\n",
      "pyzmq                    24.0.1\r\n",
      "qtconsole                5.4.0\r\n",
      "QtPy                     2.3.0\r\n",
      "requests                 2.28.2\r\n",
      "rfc3339-validator        0.1.4\r\n",
      "rfc3986-validator        0.1.1\r\n",
      "scikit-surprise          1.1.3\r\n",
      "scipy                    1.9.2\r\n",
      "Send2Trash               1.8.0\r\n",
      "setuptools               49.2.1\r\n",
      "six                      1.15.0\r\n",
      "sklearn                  0.0.post1\r\n",
      "sniffio                  1.3.0\r\n",
      "soupsieve                2.3.2.post1\r\n",
      "stack-data               0.6.2\r\n",
      "surprise                 0.1\r\n",
      "tensorflow-hub           0.13.0\r\n",
      "terminado                0.17.1\r\n",
      "tinycss2                 1.2.1\r\n",
      "tornado                  6.2\r\n",
      "traitlets                5.6.0\r\n",
      "uri-template             1.2.0\r\n",
      "urllib3                  1.26.14\r\n",
      "wcwidth                  0.2.5\r\n",
      "webcolors                1.12\r\n",
      "webencodings             0.5.1\r\n",
      "websocket-client         1.4.2\r\n",
      "wget                     3.2\r\n",
      "wheel                    0.33.1\r\n",
      "widgetsnbextension       4.0.3\r\n",
      "zipp                     3.11.0\r\n"
     ]
    }
   ],
   "source": [
    "!pip3 list"
   ]
  },
  {
   "cell_type": "code",
   "execution_count": null,
   "id": "f65477dc",
   "metadata": {},
   "outputs": [],
   "source": []
  }
 ],
 "metadata": {
  "kernelspec": {
   "display_name": "Python 3 (ipykernel)",
   "language": "python",
   "name": "python3"
  },
  "language_info": {
   "codemirror_mode": {
    "name": "ipython",
    "version": 3
   },
   "file_extension": ".py",
   "mimetype": "text/x-python",
   "name": "python",
   "nbconvert_exporter": "python",
   "pygments_lexer": "ipython3",
   "version": "3.9.12"
  }
 },
 "nbformat": 4,
 "nbformat_minor": 5
}
